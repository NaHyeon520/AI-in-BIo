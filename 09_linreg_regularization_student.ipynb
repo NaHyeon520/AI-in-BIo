{
 "cells": [
  {
   "cell_type": "code",
   "execution_count": 2,
   "metadata": {},
   "outputs": [],
   "source": [
    "import numpy as np\n",
    "import pandas as pd\n",
    "from sklearn.linear_model import LinearRegression, Ridge, RidgeCV, Lasso, LassoCV\n",
    "from sklearn.preprocessing import PolynomialFeatures, StandardScaler\n",
    "from sklearn.pipeline import Pipeline\n",
    "from sklearn.model_selection import train_test_split, cross_val_score, KFold\n",
    "#import plotnine as pn\n"
   ]
  },
  {
   "cell_type": "markdown",
   "metadata": {},
   "source": [
    "## 1. The data and problem\n",
    "\n",
    "For this lesson, we'll work with a new dataset of unknown origin (for the moment). \n",
    "\n",
    "In a not too unbelievable scenario, imagine that your boss has given you these data and said, \"I don't really know what all of this stuff means, but I need you to model this and get me a model to predict $y$ using these data!\", and of course they add, \"I need this by the end of the day!\"\n",
    "![Drawing of a boss and person at computer](images/the_boss_small.jpg)\n",
    "\n",
    "\n",
    "Let's load the data and start looking at it..."
   ]
  },
  {
   "cell_type": "code",
   "execution_count": 3,
   "metadata": {},
   "outputs": [],
   "source": [
    "df = pd.read_csv('data/regularization.csv')"
   ]
  },
  {
   "cell_type": "code",
   "execution_count": 4,
   "metadata": {},
   "outputs": [
    {
     "data": {
      "text/html": [
       "<div>\n",
       "<style scoped>\n",
       "    .dataframe tbody tr th:only-of-type {\n",
       "        vertical-align: middle;\n",
       "    }\n",
       "\n",
       "    .dataframe tbody tr th {\n",
       "        vertical-align: top;\n",
       "    }\n",
       "\n",
       "    .dataframe thead th {\n",
       "        text-align: right;\n",
       "    }\n",
       "</style>\n",
       "<table border=\"1\" class=\"dataframe\">\n",
       "  <thead>\n",
       "    <tr style=\"text-align: right;\">\n",
       "      <th></th>\n",
       "      <th>x1</th>\n",
       "      <th>x2</th>\n",
       "      <th>x3</th>\n",
       "      <th>x4</th>\n",
       "      <th>x5</th>\n",
       "      <th>x6</th>\n",
       "      <th>x7</th>\n",
       "      <th>x8</th>\n",
       "      <th>x9</th>\n",
       "      <th>x10</th>\n",
       "      <th>...</th>\n",
       "      <th>x12</th>\n",
       "      <th>x13</th>\n",
       "      <th>x14</th>\n",
       "      <th>x15</th>\n",
       "      <th>x16</th>\n",
       "      <th>x17</th>\n",
       "      <th>x18</th>\n",
       "      <th>x19</th>\n",
       "      <th>x20</th>\n",
       "      <th>y</th>\n",
       "    </tr>\n",
       "  </thead>\n",
       "  <tbody>\n",
       "    <tr>\n",
       "      <th>0</th>\n",
       "      <td>0.126504</td>\n",
       "      <td>0.477706</td>\n",
       "      <td>0.313475</td>\n",
       "      <td>0.514386</td>\n",
       "      <td>0.743750</td>\n",
       "      <td>0.234681</td>\n",
       "      <td>0.671997</td>\n",
       "      <td>0.270976</td>\n",
       "      <td>0.519267</td>\n",
       "      <td>0.361153</td>\n",
       "      <td>...</td>\n",
       "      <td>0.571807</td>\n",
       "      <td>0.281180</td>\n",
       "      <td>0.814374</td>\n",
       "      <td>0.527172</td>\n",
       "      <td>0.550691</td>\n",
       "      <td>0.021509</td>\n",
       "      <td>0.028173</td>\n",
       "      <td>0.837283</td>\n",
       "      <td>0.261703</td>\n",
       "      <td>4.077128</td>\n",
       "    </tr>\n",
       "    <tr>\n",
       "      <th>1</th>\n",
       "      <td>0.121590</td>\n",
       "      <td>0.483381</td>\n",
       "      <td>0.724387</td>\n",
       "      <td>0.818556</td>\n",
       "      <td>0.872479</td>\n",
       "      <td>0.441711</td>\n",
       "      <td>0.795640</td>\n",
       "      <td>0.474486</td>\n",
       "      <td>0.157817</td>\n",
       "      <td>0.251904</td>\n",
       "      <td>...</td>\n",
       "      <td>0.403155</td>\n",
       "      <td>0.372762</td>\n",
       "      <td>0.226465</td>\n",
       "      <td>0.002351</td>\n",
       "      <td>0.089564</td>\n",
       "      <td>0.913374</td>\n",
       "      <td>0.911584</td>\n",
       "      <td>0.784988</td>\n",
       "      <td>0.035362</td>\n",
       "      <td>4.981252</td>\n",
       "    </tr>\n",
       "    <tr>\n",
       "      <th>2</th>\n",
       "      <td>0.698551</td>\n",
       "      <td>0.036947</td>\n",
       "      <td>0.723721</td>\n",
       "      <td>0.459921</td>\n",
       "      <td>0.602351</td>\n",
       "      <td>0.560279</td>\n",
       "      <td>0.028867</td>\n",
       "      <td>0.414398</td>\n",
       "      <td>0.104540</td>\n",
       "      <td>0.906528</td>\n",
       "      <td>...</td>\n",
       "      <td>0.960674</td>\n",
       "      <td>0.529909</td>\n",
       "      <td>0.911473</td>\n",
       "      <td>0.828246</td>\n",
       "      <td>0.468373</td>\n",
       "      <td>0.582552</td>\n",
       "      <td>0.527382</td>\n",
       "      <td>0.470915</td>\n",
       "      <td>0.756324</td>\n",
       "      <td>6.649698</td>\n",
       "    </tr>\n",
       "    <tr>\n",
       "      <th>3</th>\n",
       "      <td>0.198011</td>\n",
       "      <td>0.724938</td>\n",
       "      <td>0.713586</td>\n",
       "      <td>0.493570</td>\n",
       "      <td>0.812774</td>\n",
       "      <td>0.665962</td>\n",
       "      <td>0.496994</td>\n",
       "      <td>0.145470</td>\n",
       "      <td>0.929903</td>\n",
       "      <td>0.299357</td>\n",
       "      <td>...</td>\n",
       "      <td>0.370109</td>\n",
       "      <td>0.862206</td>\n",
       "      <td>0.275417</td>\n",
       "      <td>0.717374</td>\n",
       "      <td>0.265629</td>\n",
       "      <td>0.952450</td>\n",
       "      <td>0.387913</td>\n",
       "      <td>0.477727</td>\n",
       "      <td>0.566269</td>\n",
       "      <td>6.034292</td>\n",
       "    </tr>\n",
       "    <tr>\n",
       "      <th>4</th>\n",
       "      <td>0.160674</td>\n",
       "      <td>0.462549</td>\n",
       "      <td>0.399120</td>\n",
       "      <td>0.062895</td>\n",
       "      <td>0.933785</td>\n",
       "      <td>0.942120</td>\n",
       "      <td>0.269115</td>\n",
       "      <td>0.780801</td>\n",
       "      <td>0.452808</td>\n",
       "      <td>0.047896</td>\n",
       "      <td>...</td>\n",
       "      <td>0.766598</td>\n",
       "      <td>0.838162</td>\n",
       "      <td>0.351654</td>\n",
       "      <td>0.207323</td>\n",
       "      <td>0.760390</td>\n",
       "      <td>0.860970</td>\n",
       "      <td>0.993952</td>\n",
       "      <td>0.417981</td>\n",
       "      <td>0.991003</td>\n",
       "      <td>7.588461</td>\n",
       "    </tr>\n",
       "  </tbody>\n",
       "</table>\n",
       "<p>5 rows × 21 columns</p>\n",
       "</div>"
      ],
      "text/plain": [
       "         x1        x2        x3        x4        x5        x6        x7  \\\n",
       "0  0.126504  0.477706  0.313475  0.514386  0.743750  0.234681  0.671997   \n",
       "1  0.121590  0.483381  0.724387  0.818556  0.872479  0.441711  0.795640   \n",
       "2  0.698551  0.036947  0.723721  0.459921  0.602351  0.560279  0.028867   \n",
       "3  0.198011  0.724938  0.713586  0.493570  0.812774  0.665962  0.496994   \n",
       "4  0.160674  0.462549  0.399120  0.062895  0.933785  0.942120  0.269115   \n",
       "\n",
       "         x8        x9       x10  ...       x12       x13       x14       x15  \\\n",
       "0  0.270976  0.519267  0.361153  ...  0.571807  0.281180  0.814374  0.527172   \n",
       "1  0.474486  0.157817  0.251904  ...  0.403155  0.372762  0.226465  0.002351   \n",
       "2  0.414398  0.104540  0.906528  ...  0.960674  0.529909  0.911473  0.828246   \n",
       "3  0.145470  0.929903  0.299357  ...  0.370109  0.862206  0.275417  0.717374   \n",
       "4  0.780801  0.452808  0.047896  ...  0.766598  0.838162  0.351654  0.207323   \n",
       "\n",
       "        x16       x17       x18       x19       x20         y  \n",
       "0  0.550691  0.021509  0.028173  0.837283  0.261703  4.077128  \n",
       "1  0.089564  0.913374  0.911584  0.784988  0.035362  4.981252  \n",
       "2  0.468373  0.582552  0.527382  0.470915  0.756324  6.649698  \n",
       "3  0.265629  0.952450  0.387913  0.477727  0.566269  6.034292  \n",
       "4  0.760390  0.860970  0.993952  0.417981  0.991003  7.588461  \n",
       "\n",
       "[5 rows x 21 columns]"
      ]
     },
     "execution_count": 4,
     "metadata": {},
     "output_type": "execute_result"
    }
   ],
   "source": [
    "df.head()"
   ]
  },
  {
   "cell_type": "markdown",
   "metadata": {},
   "source": [
    "What should we do with this? We have 20 $x$ variables and 50 observations of those variables. How can we build a good predictive model for these data?\n",
    "\n",
    "Where do we start?\n",
    "\n",
    "Once we're ready to start looking at models, how do we select variables?\n",
    "\n",
    "### Number of possible models\n",
    "\n",
    "As a bit of an aside, model selection quickly blows up if we want to try all possible combinations. The table below shows the number of models that would need to be evaluated for $p$ features or predictors.\n",
    "\n",
    "$p$ (number of predictors): | 1      | 2     | 10    | 20    | 40    | 100 \n",
    "--------------------------|--------|---------|-------|-------|-------|-----\n",
    "No of models for $p$ predictors| 2   |  4    | 1,024 | 1,0448,576| 1.1 X 10<sup>12</sup> | 1.3 X 10<sup>30</sup>\n",
    "Add square of each predictor | 4 | 16 | 1,048,576 | 1.1 X 10<sup>12</sup> | 1.2 X 10<sup>24</sup> | 1.6 X 10<sup>60</sup>\n",
    "Add pairwise interactions | 2 | 5 | 3.6 X 10<sup>13</sup> | 1.6 X 10<sup>57</sup> | 6.4 X 10<sup>234</sup> | ? 🤯 \n",
    "\n",
    "**Fun fact:** Estimated number of atoms in the observable universe: ~10<sup>80</sup>\n",
    "\n",
    "So...with 20 features, we are approaching the number of atoms in the universe...\n",
    "\n",
    "Somehow need to control for the number of parameters in our model!\n",
    "\n",
    "\n",
    "## 2. Multiple linear regression\n",
    "\n",
    "Let's explore multiple linear regression first to see what happens. _Note that, in the interest of time, I am leaving out exploratory data analyses and visualizations, which is where you should start!_"
   ]
  },
  {
   "cell_type": "code",
   "execution_count": 5,
   "metadata": {},
   "outputs": [
    {
     "name": "stdout",
     "output_type": "stream",
     "text": [
      "R^2: 0.9679699534659556 MSE: 0.07828974536159017\n"
     ]
    }
   ],
   "source": [
    "# Get the dataset ready\n",
    "X = df.drop(columns=['y'])\n",
    "y = df['y'] \n",
    " \n",
    "# Create and fit a simple LinearRegression model\n",
    "model = LinearRegression()\n",
    "model.fit(X, y)\n",
    "\n",
    "def mse(model, X, y):\n",
    "    y_hat = model.predict(X)\n",
    "    err = np.mean((y - y_hat)**2)\n",
    "    return err\n",
    "\n",
    "print('R^2:', model.score(X, y), 'MSE:', mse(model, X, y))"
   ]
  },
  {
   "cell_type": "markdown",
   "metadata": {},
   "source": [
    "Now that we've got a model, let's use 5-fold cross-validation to estimate how well it will work for new (i.e., non-training) data."
   ]
  },
  {
   "cell_type": "code",
   "execution_count": 6,
   "metadata": {},
   "outputs": [
    {
     "name": "stdout",
     "output_type": "stream",
     "text": [
      "c-v R^2: 0.7734350974615247 c-v MSE: 0.38341921219406266\n"
     ]
    }
   ],
   "source": [
    "kf = KFold(n_splits=5)\n",
    "res = cross_val_score(model, X, y, cv=kf, scoring=mse)\n",
    "cv_mse = np.mean(res)\n",
    "res = cross_val_score(model, X, y, cv=kf)\n",
    "cv_r2 = np.mean(res)\n",
    "\n",
    "print('c-v R^2:', cv_r2, 'c-v MSE:', cv_mse)"
   ]
  },
  {
   "cell_type": "markdown",
   "metadata": {},
   "source": [
    "## 3. Lasso regularization\n",
    "\n",
    "Remember that a model that is too complex, we tend to overfit the training data and get high variance, and if it's not complex enough, we underfit the training data and get high bias. Our goal is to find the model with just enough complexity. We can try to do this as part of the model optimization procedure.\n",
    "\n",
    "So far, we've user the $MSE$ as our loss function. And our models look something like this:\n",
    "\n",
    "$$ \\hat{y} = b_0 + b_{1}x_{1} + b_{2}x_{2} + \\ldots + b_{p}x_{p} $$\n",
    "\n",
    "Let's define:  $\\ell_1 penalty = \\lambda \\sum_{i=1}^{p} |b_{p}|$\n",
    "\n",
    "And then we can make a new loss function that is: \n",
    "\n",
    "   $$  loss = MSE +  \\lambda \\sum_{i=1}^{p} |b_{p}|$$\n",
    "\n",
    "As the coefficient for a feature increases, the $\\ell_1 penalty$ also increases. If the model can push the $b$ for a feature to 0, that feature drops out of the model. By adjusting $\\lambda$, we can adjust the effect of the $\\ell_1 penalty$.\n",
    "\n",
    "This is known as the Lasso, short for **l**east **a**bsolute **s**hrinkage and **s**election **o**perator.\n",
    "\n",
    "Okay, so let's see what the lasso ($\\ell_1$-regularized regression) does with these data.  We can use scikit-learn's `Lasso` estimator for this.  Note that scikit-learn uses `alpha` for the name of the parameter referred to as $\\lambda$ virtually everywhere else (perhaps because `lambda` is a reserved word in Python).\n",
    "\n",
    "As a general practice, you should always **make sure that your predictor variables are on the same scale when fitting a regularized regression model**.  We can have `Lasso` do this for us automatically by passing `normalize=True` when we create the `Lasso` object."
   ]
  },
  {
   "cell_type": "code",
   "execution_count": 7,
   "metadata": {},
   "outputs": [
    {
     "name": "stdout",
     "output_type": "stream",
     "text": [
      "[-0.          1.60031201  0.          2.43621496 -0.          0.\n",
      "  0.          0.          0.          0.         -0.         -0.\n",
      " -0.          0.          0.          0.34410418 -0.          0.5799994\n",
      "  0.          3.8417057 ]\n",
      "c-v R^2: 0.8996678788007022 c-v MSE: 0.2057994573159531\n"
     ]
    }
   ],
   "source": [
    "model = Pipeline([\n",
    "    ('scaler', StandardScaler()),\n",
    "    ('lasso', Lasso(alpha=0.1)),\n",
    "])\n",
    "\n",
    "model.fit(X, y)\n",
    "print(model.named_steps['lasso'].coef_ / model.named_steps['scaler'].scale_)\n",
    "res = cross_val_score(model, X, y, cv=kf, scoring=mse)\n",
    "cv_mse = res.mean()\n",
    "res = cross_val_score(model, X, y, cv=kf)\n",
    "cv_r2 = res.mean()\n",
    "print('c-v R^2:', cv_r2, 'c-v MSE:', cv_mse)"
   ]
  },
  {
   "cell_type": "markdown",
   "metadata": {},
   "source": [
    "## 4. Ridge regression\n",
    "\n",
    "Another method with similar goals, but different results is known as ridge regression. This uses what is referred to as the $\\ell_1 penalty$\n",
    "\n",
    "Let's define:  $\\ell_2 penalty = \\lambda \\sum_{i=1}^{p} b_{p}^{2}$\n",
    "\n",
    "Again, we can add the $\\ell_1 penalty$ to the $MSE$.\n",
    "\n",
    "Let's see what happens if we use ridge regression ($\\ell_2$-regularized regression) with these data.  We can use scikit-learn's `Ridge` estimator to do this, and again, don't forget to make sure that your predictor variables are on the same scale.\n",
    "\n",
    "All we need to do is copy the code from above and change `Lasso` to `Ridge` in the `model` line. The $\\lambda$/`alpha` values have different effects."
   ]
  },
  {
   "cell_type": "code",
   "execution_count": 8,
   "metadata": {},
   "outputs": [
    {
     "name": "stdout",
     "output_type": "stream",
     "text": [
      "[ 0.09531273  2.05605168 -0.10642754  2.9951993   0.07563958  0.27413443\n",
      "  0.02878165  0.06294739  0.22054062  0.11140858 -0.1273955   0.16130407\n",
      " -0.09155563  0.39916988 -0.10958678  0.54319753 -0.18986193  1.04649947\n",
      " -0.09828673  4.20133833]\n",
      "c-v R^2: 0.7800314571282306 c-v MSE: 0.39191244382243856\n"
     ]
    }
   ],
   "source": [
    "model = Pipeline([\n",
    "    ('scaler', StandardScaler()),\n",
    "    ('ridge', Ridge(alpha=1.0)),\n",
    "])\n",
    "\n",
    "model.fit(X, y)\n",
    "print(model.named_steps['ridge'].coef_ / model.named_steps['scaler'].scale_)\n",
    "res = cross_val_score(model, X, y, cv=kf, scoring=mse)\n",
    "cv_mse = res.mean()\n",
    "res = cross_val_score(model, X, y, cv=kf)\n",
    "cv_r2 = res.mean()\n",
    "print('c-v R^2:', cv_r2, 'c-v MSE:', cv_mse)"
   ]
  },
  {
   "cell_type": "markdown",
   "metadata": {},
   "source": [
    "## 5. How does $\\lambda$ influence the parameter estimates?\n",
    "\n",
    "Before we move on, let's take a closer look at how changing lambda influences the parameter estimates for both the lasso and ridge regression.\n",
    "\n",
    "**Affect of $\\lambda$ in Lasso Regression**\n",
    "\n",
    "![Graph showing how the features drop out as lambda is increased with Lasso. 4 key features are highlighted](images/Lasso_feature_dropout.png)\n",
    "\n",
    "**Affect of $\\lambda$ in Ridge Regression**\n",
    "\n",
    "![Graph showing how the features drop out as lambda is increased with Ridge. 4 key features are highlighted](images/Ridge_feature_dropout.png)\n",
    "\n",
    "\n",
    "Lasso and ridge regression are examples of *regularization* or *shrinkage* methods, because they regularize/constrain the parameter estimates by shrinking them towards 0."
   ]
  },
  {
   "cell_type": "markdown",
   "metadata": {},
   "source": [
    "## 6. Choosing $\\lambda$ and a modeling procedure\n",
    "\n",
    "How should we choose the \"best\" value of $\\lambda$ for the lasso or ridge regression?  How should we decide whether to use the lasso or ridge regression?  What ideas do you have?"
   ]
  },
  {
   "cell_type": "code",
   "execution_count": 9,
   "metadata": {},
   "outputs": [
    {
     "name": "stdout",
     "output_type": "stream",
     "text": [
      "[-0.          1.75308926  0.          2.56644637 -0.          0.04514838\n",
      "  0.          0.          0.          0.         -0.         -0.\n",
      " -0.          0.          0.          0.39082245 -0.          0.70328889\n",
      "  0.          3.97175774]\n",
      "lambda: 0.06800373121782305\n"
     ]
    },
    {
     "name": "stdout",
     "output_type": "stream",
     "text": [
      "c-v R^2: 0.8913493059968791 c-v MSE: 0.22966885202406004\n"
     ]
    }
   ],
   "source": [
    "model = Pipeline([\n",
    "    ('scaler', StandardScaler()),\n",
    "    ('lassoCV', LassoCV()),\n",
    "])\n",
    "\n",
    "model.fit(X, y)\n",
    "print(model.named_steps['lassoCV'].coef_ / model.named_steps['scaler'].scale_)\n",
    "print(\"lambda:\", model.named_steps['lassoCV'].alpha_)\n",
    "\n",
    "res = cross_val_score(model, X, y, cv=kf, scoring=mse)\n",
    "cv_mse = res.mean()\n",
    "res = cross_val_score(model, X, y, cv=kf)\n",
    "cv_r2 = res.mean()\n",
    "print('c-v R^2:', cv_r2, 'c-v MSE:', cv_mse)"
   ]
  },
  {
   "cell_type": "code",
   "execution_count": 10,
   "metadata": {},
   "outputs": [
    {
     "name": "stdout",
     "output_type": "stream",
     "text": [
      "[ 0.02973356  0.58579287 -0.02993308  0.83274881  0.03241912  0.07202086\n",
      "  0.00547985  0.02040299  0.05722947  0.03572423 -0.03561072  0.05761067\n",
      " -0.02938202  0.12904998 -0.03924181  0.13098626 -0.06743821  0.29128685\n",
      " -0.024115    1.30731279]\n",
      "lambda: 0.40370172585965547\n",
      "c-v R^2: 0.7796457715211536 c-v MSE: 0.38131103114121356\n"
     ]
    }
   ],
   "source": [
    "lambdas = np.geomspace(0.1, 10, 100) # Unlike LassoCV, we need to provide the lambds, here we use a logarithmic scale.\n",
    "                                    # Note that we need to update the search range--0.001 should be good in the end.\n",
    "model = Pipeline([\n",
    "    ('scaler', StandardScaler()),\n",
    "    ('ridgeCV', RidgeCV(alphas=lambdas)),\n",
    "])\n",
    "\n",
    "model.fit(X, y)\n",
    "print(model.named_steps['ridgeCV'].coef_)\n",
    "print(\"lambda:\", model.named_steps['ridgeCV'].alpha_)\n",
    "res = cross_val_score(model, X, y, cv=kf, scoring=mse)\n",
    "cv_mse = res.mean()\n",
    "res = cross_val_score(model, X, y, cv=kf)\n",
    "cv_r2 = res.mean()\n",
    "print('c-v R^2:', cv_r2, 'c-v MSE:', cv_mse)"
   ]
  },
  {
   "cell_type": "markdown",
   "metadata": {},
   "source": [
    "## 7. Why/how do these methods work? Is one better than the other?\n",
    "\n",
    "We'll start by revealing where the data we've been modeling actually came from, which will give us some insight into how these methods work.  Then we'll dig a little deeper into how these methods are able to decrease the expected test error.\n",
    "\n",
    "These data were generated using: $y=1+ 2x_2 + 3x_4 + x_{18} + 4x_{20} + \\epsilon ;    Var[\\epsilon = 0.4] $\n",
    "\n",
    "Look back the coefficients Lasso selected. Quite amazing!\n",
    "\n",
    "### Returning to the bias-variance trade-off\n",
    "\n",
    "The graph below shows the estimated test $MSE$ for models fit to data generated with the process used to generate the data we used in red. In blue is the Bias estimate and in green the variance. The vertical dashed line is the selected $\\lambda$\n",
    "\n",
    "![Graph of the estimated test MSE for models fit to data generated with the process used to generate the data we used in red. In blue is the Bias estimate and in green the variance.](images/Lasso_Bias-Variance_trade-off.png)\n",
    " \n",
    "Notice that the model selected by Lasso does have bias! But we are trading a big reduction in variance for a small increase in bias.\n",
    "\n",
    "\n",
    "### Key points to remember:\n",
    "\n",
    "* The Lasso can drive coefficients to 0; thus, it can perform _feature selection_.\n",
    "* Ridge regression constrains coefficient values (_shrinks_ them), but does not remove them from the model.\n",
    "\n",
    "Which is best depends on your data and the goals of the analysis. In our case, most of the parameters were just noise, so Lasso performed better. If all of the parameters really played into generating the data, Ridge regression likely would have done better. **It depends on the data!**\n",
    "\n",
    "## 8. Other methods\n",
    "\n",
    "There are many other methods available for model/feature selection.  If you've had a statistics course, you've no doubt learned some of them.\n",
    "\n",
    "Unfortunately, we don't have time to cover any of these alternative methods in detail in this course.  I will mention, though, that _dimensionality reduction_ is another widely used, general approach to dealing with model complexity and certainly worth learning about.  _Principle components regression_ is one example of this approach. One downside is that the models are less interpretable.\n",
    "\n",
    "Another method I should mention is the _elastic net_, which combines $\\ell_1$ and $\\ell_2$ penalties into a single fitting procedure and can benefit from the desirable properties of both the lasso and ridge regression."
   ]
  },
  {
   "cell_type": "markdown",
   "metadata": {},
   "source": [
    "## 9. Data analysis lab\n",
    "\n",
    "Now, put together everything that you've learned over the last few units (prediction error, bias and variance; methods for estimating test/prediction error; regularization techniques) and apply it to a data analysis problem.  Returning to the diabetes dataset, your goal is to create a machine learning model that can accurately predict the diabetes risk."
   ]
  },
  {
   "cell_type": "code",
   "execution_count": 11,
   "metadata": {},
   "outputs": [],
   "source": [
    "from sklearn.datasets import load_diabetes\n",
    "X_diabetes, y_diabetes = load_diabetes(return_X_y=True)"
   ]
  },
  {
   "cell_type": "code",
   "execution_count": 12,
   "metadata": {},
   "outputs": [
    {
     "data": {
      "text/html": [
       "<div>\n",
       "<style scoped>\n",
       "    .dataframe tbody tr th:only-of-type {\n",
       "        vertical-align: middle;\n",
       "    }\n",
       "\n",
       "    .dataframe tbody tr th {\n",
       "        vertical-align: top;\n",
       "    }\n",
       "\n",
       "    .dataframe thead th {\n",
       "        text-align: right;\n",
       "    }\n",
       "</style>\n",
       "<table border=\"1\" class=\"dataframe\">\n",
       "  <thead>\n",
       "    <tr style=\"text-align: right;\">\n",
       "      <th></th>\n",
       "      <th>age</th>\n",
       "      <th>sex</th>\n",
       "      <th>bmi</th>\n",
       "      <th>bp</th>\n",
       "      <th>s1</th>\n",
       "      <th>s2</th>\n",
       "      <th>s3</th>\n",
       "      <th>s4</th>\n",
       "      <th>s5</th>\n",
       "      <th>s6</th>\n",
       "      <th>target</th>\n",
       "    </tr>\n",
       "  </thead>\n",
       "  <tbody>\n",
       "    <tr>\n",
       "      <th>0</th>\n",
       "      <td>0.038076</td>\n",
       "      <td>0.050680</td>\n",
       "      <td>0.061696</td>\n",
       "      <td>0.021872</td>\n",
       "      <td>-0.044223</td>\n",
       "      <td>-0.034821</td>\n",
       "      <td>-0.043401</td>\n",
       "      <td>-0.002592</td>\n",
       "      <td>0.019907</td>\n",
       "      <td>-0.017646</td>\n",
       "      <td>151.0</td>\n",
       "    </tr>\n",
       "    <tr>\n",
       "      <th>1</th>\n",
       "      <td>-0.001882</td>\n",
       "      <td>-0.044642</td>\n",
       "      <td>-0.051474</td>\n",
       "      <td>-0.026328</td>\n",
       "      <td>-0.008449</td>\n",
       "      <td>-0.019163</td>\n",
       "      <td>0.074412</td>\n",
       "      <td>-0.039493</td>\n",
       "      <td>-0.068332</td>\n",
       "      <td>-0.092204</td>\n",
       "      <td>75.0</td>\n",
       "    </tr>\n",
       "    <tr>\n",
       "      <th>2</th>\n",
       "      <td>0.085299</td>\n",
       "      <td>0.050680</td>\n",
       "      <td>0.044451</td>\n",
       "      <td>-0.005670</td>\n",
       "      <td>-0.045599</td>\n",
       "      <td>-0.034194</td>\n",
       "      <td>-0.032356</td>\n",
       "      <td>-0.002592</td>\n",
       "      <td>0.002861</td>\n",
       "      <td>-0.025930</td>\n",
       "      <td>141.0</td>\n",
       "    </tr>\n",
       "    <tr>\n",
       "      <th>3</th>\n",
       "      <td>-0.089063</td>\n",
       "      <td>-0.044642</td>\n",
       "      <td>-0.011595</td>\n",
       "      <td>-0.036656</td>\n",
       "      <td>0.012191</td>\n",
       "      <td>0.024991</td>\n",
       "      <td>-0.036038</td>\n",
       "      <td>0.034309</td>\n",
       "      <td>0.022688</td>\n",
       "      <td>-0.009362</td>\n",
       "      <td>206.0</td>\n",
       "    </tr>\n",
       "    <tr>\n",
       "      <th>4</th>\n",
       "      <td>0.005383</td>\n",
       "      <td>-0.044642</td>\n",
       "      <td>-0.036385</td>\n",
       "      <td>0.021872</td>\n",
       "      <td>0.003935</td>\n",
       "      <td>0.015596</td>\n",
       "      <td>0.008142</td>\n",
       "      <td>-0.002592</td>\n",
       "      <td>-0.031988</td>\n",
       "      <td>-0.046641</td>\n",
       "      <td>135.0</td>\n",
       "    </tr>\n",
       "  </tbody>\n",
       "</table>\n",
       "</div>"
      ],
      "text/plain": [
       "        age       sex       bmi        bp        s1        s2        s3  \\\n",
       "0  0.038076  0.050680  0.061696  0.021872 -0.044223 -0.034821 -0.043401   \n",
       "1 -0.001882 -0.044642 -0.051474 -0.026328 -0.008449 -0.019163  0.074412   \n",
       "2  0.085299  0.050680  0.044451 -0.005670 -0.045599 -0.034194 -0.032356   \n",
       "3 -0.089063 -0.044642 -0.011595 -0.036656  0.012191  0.024991 -0.036038   \n",
       "4  0.005383 -0.044642 -0.036385  0.021872  0.003935  0.015596  0.008142   \n",
       "\n",
       "         s4        s5        s6  target  \n",
       "0 -0.002592  0.019907 -0.017646   151.0  \n",
       "1 -0.039493 -0.068332 -0.092204    75.0  \n",
       "2 -0.002592  0.002861 -0.025930   141.0  \n",
       "3  0.034309  0.022688 -0.009362   206.0  \n",
       "4 -0.002592 -0.031988 -0.046641   135.0  "
      ]
     },
     "execution_count": 12,
     "metadata": {},
     "output_type": "execute_result"
    }
   ],
   "source": [
    "df = load_diabetes(as_frame=True)\n",
    "df.frame.head()"
   ]
  },
  {
   "cell_type": "code",
   "execution_count": 13,
   "metadata": {},
   "outputs": [
    {
     "name": "stdout",
     "output_type": "stream",
     "text": [
      "Coefficients: [  37.90402135 -241.96436231  542.42875852  347.70384391 -931.48884588\n",
      "  518.06227698  163.41998299  275.31790158  736.1988589    48.67065743]\n",
      "Mean squared error: 2900.193628493482\n",
      "Coefficient of determination (R^2): 0.4526027629719195\n",
      "First 5 predictions: [139.5475584  179.51720835 134.03875572 291.41702925 123.78965872]\n",
      "First 5 true values: [219.  70. 202. 230. 111.]\n"
     ]
    }
   ],
   "source": [
    "import numpy as np\n",
    "import pandas as pd\n",
    "from sklearn.datasets import load_diabetes\n",
    "from sklearn.linear_model import LinearRegression\n",
    "from sklearn.model_selection import train_test_split\n",
    "from sklearn.metrics import mean_squared_error, r2_score\n",
    "\n",
    "# Load the diabetes dataset\n",
    "diabetes = load_diabetes()\n",
    "X = diabetes.data\n",
    "y = diabetes.target\n",
    "\n",
    "# Split the data into training/testing sets\n",
    "X_train, X_test, y_train, y_test = train_test_split(X, y, test_size=0.2, random_state=42)\n",
    "\n",
    "# Create linear regression object\n",
    "model = LinearRegression()\n",
    "\n",
    "# Train the model using the training sets\n",
    "model.fit(X_train, y_train)\n",
    "\n",
    "# Make predictions using the testing set\n",
    "y_pred = model.predict(X_test)\n",
    "\n",
    "# Print coefficients\n",
    "print('Coefficients:', model.coef_)\n",
    "\n",
    "# Print mean squared error\n",
    "print('Mean squared error:', mean_squared_error(y_test, y_pred))\n",
    "\n",
    "# Print coefficient of determination (R^2)\n",
    "print('Coefficient of determination (R^2):', r2_score(y_test, y_pred))\n",
    "\n",
    "# Print first 5 predictions\n",
    "print('First 5 predictions:', y_pred[:5])\n",
    "print('First 5 true values:', y_test[:5])"
   ]
  },
  {
   "cell_type": "code",
   "execution_count": 14,
   "metadata": {},
   "outputs": [
    {
     "name": "stdout",
     "output_type": "stream",
     "text": [
      "             age       sex       bmi        bp        s1        s2        s3  \\\n",
      "age     1.000000  0.173737  0.185085  0.335428  0.260061  0.219243 -0.075181   \n",
      "sex     0.173737  1.000000  0.088161  0.241010  0.035277  0.142637 -0.379090   \n",
      "bmi     0.185085  0.088161  1.000000  0.395411  0.249777  0.261170 -0.366811   \n",
      "bp      0.335428  0.241010  0.395411  1.000000  0.242464  0.185548 -0.178762   \n",
      "s1      0.260061  0.035277  0.249777  0.242464  1.000000  0.896663  0.051519   \n",
      "s2      0.219243  0.142637  0.261170  0.185548  0.896663  1.000000 -0.196455   \n",
      "s3     -0.075181 -0.379090 -0.366811 -0.178762  0.051519 -0.196455  1.000000   \n",
      "s4      0.203841  0.332115  0.413807  0.257650  0.542207  0.659817 -0.738493   \n",
      "s5      0.270774  0.149916  0.446157  0.393480  0.515503  0.318357 -0.398577   \n",
      "s6      0.301731  0.208133  0.388680  0.390430  0.325717  0.290600 -0.273697   \n",
      "target  0.187889  0.043062  0.586450  0.441482  0.212022  0.174054 -0.394789   \n",
      "\n",
      "              s4        s5        s6    target  \n",
      "age     0.203841  0.270774  0.301731  0.187889  \n",
      "sex     0.332115  0.149916  0.208133  0.043062  \n",
      "bmi     0.413807  0.446157  0.388680  0.586450  \n",
      "bp      0.257650  0.393480  0.390430  0.441482  \n",
      "s1      0.542207  0.515503  0.325717  0.212022  \n",
      "s2      0.659817  0.318357  0.290600  0.174054  \n",
      "s3     -0.738493 -0.398577 -0.273697 -0.394789  \n",
      "s4      1.000000  0.617859  0.417212  0.430453  \n",
      "s5      0.617859  1.000000  0.464669  0.565883  \n",
      "s6      0.417212  0.464669  1.000000  0.382483  \n",
      "target  0.430453  0.565883  0.382483  1.000000  \n"
     ]
    },
    {
     "data": {
      "image/png": "[encoded data removed]",
      "text/plain": [
       "<Figure size 1000x800 with 2 Axes>"
      ]
     },
     "metadata": {},
     "output_type": "display_data"
    }
   ],
   "source": [
    "import pandas as pd\n",
    "import seaborn as sns\n",
    "import matplotlib.pyplot as plt\n",
    "\n",
    "corr_matrix = df.frame.corr()\n",
    "\n",
    "# Print the correlation matrix\n",
    "print(corr_matrix)\n",
    "\n",
    "# Visualize the correlation matrix\n",
    "plt.figure(figsize=(10, 8))\n",
    "sns.heatmap(corr_matrix, annot=True, cmap='coolwarm', fmt='.2f')\n",
    "plt.show()"
   ]
  },
  {
   "cell_type": "code",
   "execution_count": 15,
   "metadata": {},
   "outputs": [
    {
     "name": "stdout",
     "output_type": "stream",
     "text": [
      "[  -9.06488603 -238.27644969  520.7855355   323.20875771 -632.57239728\n",
      "  350.11247748   30.73903959  158.12230218  690.50031925   68.67180929]\n",
      "c-v R^2: 0.4821936251213234 c-v MSE: 2993.6406833215437\n"
     ]
    }
   ],
   "source": [
    "model = Pipeline([\n",
    "    ('scaler', StandardScaler()),\n",
    "    ('ridge', Ridge(alpha=1.0)),\n",
    "])\n",
    "\n",
    "model.fit(X_diabetes, y_diabetes)\n",
    "print(model.named_steps['ridge'].coef_ / model.named_steps['scaler'].scale_)\n",
    "res = cross_val_score(model, X, y, cv=kf, scoring=mse)\n",
    "cv_mse = res.mean()\n",
    "res = cross_val_score(model, X, y, cv=kf)\n",
    "cv_r2 = res.mean()\n",
    "print('c-v R^2:', cv_r2, 'c-v MSE:', cv_mse)"
   ]
  },
  {
   "cell_type": "code",
   "execution_count": 16,
   "metadata": {},
   "outputs": [
    {
     "name": "stdout",
     "output_type": "stream",
     "text": [
      "[  -5.83816991 -234.61479903  522.55031434  320.44749118 -556.04029341\n",
      "  288.56554551   -0.          148.33495872  663.82765729   66.40316576]\n",
      "c-v R^2: 0.4824625577013791 c-v MSE: 2992.1961145459863\n"
     ]
    }
   ],
   "source": [
    "model = Pipeline([\n",
    "    ('scaler', StandardScaler()),\n",
    "    ('lasso', Lasso(alpha=0.1)),\n",
    "])\n",
    "\n",
    "model.fit(X_diabetes, y_diabetes)\n",
    "print(model.named_steps['lasso'].coef_ / model.named_steps['scaler'].scale_)\n",
    "res = cross_val_score(model, X, y, cv=kf, scoring=mse)\n",
    "cv_mse = res.mean()\n",
    "res = cross_val_score(model, X, y, cv=kf)\n",
    "cv_r2 = res.mean()\n",
    "print('c-v R^2:', cv_r2, 'c-v MSE:', cv_mse)"
   ]
  },
  {
   "cell_type": "code",
   "execution_count": 17,
   "metadata": {},
   "outputs": [
    {
     "data": {
      "text/plain": [
       "0.0"
      ]
     },
     "execution_count": 17,
     "metadata": {},
     "output_type": "execute_result"
    }
   ],
   "source": [
    "# Fit the Gaissian Naive Bayes model\n",
    "from sklearn.naive_bayes import GaussianNB\n",
    "model = GaussianNB()\n",
    "model.fit(X_train, y_train)\n",
    "y_model = model.predict(X_test)\n",
    "\n",
    "# Get the accuracy\n",
    "from sklearn.metrics import accuracy_score\n",
    "accuracy_score(y_test, y_model)"
   ]
  },
  {
   "cell_type": "code",
   "execution_count": 18,
   "metadata": {},
   "outputs": [
    {
     "data": {
      "image/png": "[encoded data removed]",
      "text/plain": [
       "<Figure size 640x480 with 1 Axes>"
      ]
     },
     "metadata": {},
     "output_type": "display_data"
    }
   ],
   "source": [
    "# See where our model makes mistakes\n",
    "from sklearn.metrics import confusion_matrix\n",
    "\n",
    "mat = confusion_matrix(y_test, y_model)\n",
    "\n",
    "plt.imshow(mat)\n",
    "plt.show()"
   ]
  },
  {
   "cell_type": "code",
   "execution_count": 19,
   "metadata": {},
   "outputs": [],
   "source": [
    "from sklearn.decomposition import PCA  # 1. Choose the model class\n",
    "                       # 2. Instantiate the model with hyperparameters\n",
    "                      # 3. Fit to data. Notice y is not specified!\n",
    "                       # 4. Transform the data to two dimensions\n",
    "pca = PCA(n_components=5) # 2. Instantiate the model with hyperparameters\n",
    "pca.fit(X_diabetes) # 3. Fit to data. Notice y is not specified!\n",
    "X_2D = pca.transform(X_diabetes) # 4. Transform the data to two dimensions"
   ]
  },
  {
   "cell_type": "code",
   "execution_count": 20,
   "metadata": {},
   "outputs": [
    {
     "name": "stdout",
     "output_type": "stream",
     "text": [
      "Coefficients: [ 445.56474949 -287.03569006  264.72916296 -576.26748998   38.16443427]\n",
      "Mean squared error: 2879.5924195103125\n",
      "Coefficient of determination (R^2): 0.45649113951548237\n",
      "First 5 predictions: [136.70041281 171.82202891 130.78009102 286.53803016 118.61084266]\n",
      "First 5 true values: [219.  70. 202. 230. 111.]\n"
     ]
    }
   ],
   "source": [
    "import numpy as np\n",
    "import pandas as pd\n",
    "from sklearn.datasets import load_diabetes\n",
    "from sklearn.linear_model import LinearRegression\n",
    "from sklearn.model_selection import train_test_split\n",
    "from sklearn.metrics import mean_squared_error, r2_score\n",
    "\n",
    "# Split the data into training/testing sets\n",
    "X_train, X_test, y_train, y_test = train_test_split(X_2D, y, test_size=0.2, random_state=42)\n",
    "\n",
    "# Create linear regression object\n",
    "model = LinearRegression()\n",
    "\n",
    "# Train the model using the training sets\n",
    "model.fit(X_train, y_train)\n",
    "\n",
    "# Make predictions using the testing set\n",
    "y_pred = model.predict(X_test)\n",
    "\n",
    "# Print coefficients\n",
    "print('Coefficients:', model.coef_)\n",
    "\n",
    "# Print mean squared error\n",
    "print('Mean squared error:', mean_squared_error(y_test, y_pred))\n",
    "\n",
    "# Print coefficient of determination (R^2)\n",
    "print('Coefficient of determination (R^2):', r2_score(y_test, y_pred))\n",
    "\n",
    "# Print first 5 predictions\n",
    "print('First 5 predictions:', y_pred[:5])\n",
    "print('First 5 true values:', y_test[:5])"
   ]
  },
  {
   "cell_type": "code",
   "execution_count": 21,
   "metadata": {},
   "outputs": [
    {
     "name": "stdout",
     "output_type": "stream",
     "text": [
      "[  -6.49469328 -235.99308032  521.7443693   321.0607768  -569.43813385\n",
      "  302.45319289   -0.          143.69851474  669.92267515   66.83551067]\n",
      "lambda: 0.07891843500595844\n",
      "c-v R^2: 0.4818598404008808 c-v MSE: 2996.1880908280964\n"
     ]
    }
   ],
   "source": [
    "model = Pipeline([\n",
    "    ('scaler', StandardScaler()),\n",
    "    ('lassoCV', LassoCV()),\n",
    "])\n",
    "\n",
    "model.fit(X_diabetes, y_diabetes)\n",
    "print(model.named_steps['lassoCV'].coef_ / model.named_steps['scaler'].scale_)\n",
    "print(\"lambda:\", model.named_steps['lassoCV'].alpha_)\n",
    "\n",
    "res = cross_val_score(model, X_diabetes, y_diabetes, cv=kf, scoring=mse)\n",
    "cv_mse = res.mean()\n",
    "res = cross_val_score(model, X_diabetes, y_diabetes, cv=kf)\n",
    "cv_r2 = res.mean()\n",
    "print('c-v R^2:', cv_r2, 'c-v MSE:', cv_mse)"
   ]
  },
  {
   "cell_type": "code",
   "execution_count": 22,
   "metadata": {},
   "outputs": [
    {
     "name": "stdout",
     "output_type": "stream",
     "text": [
      "[ -0.40206089 -11.28111604  24.78479634  15.33453826 -25.65033435\n",
      "  13.13365932  -0.47979006   7.01111817  31.13693467   3.30159287]\n",
      "lambda: 1.873817422860385\n",
      "c-v R^2: 0.47988055499767485 c-v MSE: 3007.071188322441\n"
     ]
    }
   ],
   "source": [
    "lambdas = np.geomspace(0.1, 10, 100) # Unlike LassoCV, we need to provide the lambds, here we use a logarithmic scale.\n",
    "                                    # Note that we need to update the search range--0.001 should be good in the end.\n",
    "model = Pipeline([\n",
    "    ('scaler', StandardScaler()),\n",
    "    ('ridgeCV', RidgeCV(alphas=lambdas)),\n",
    "])\n",
    "\n",
    "model.fit(X_diabetes, y_diabetes)\n",
    "print(model.named_steps['ridgeCV'].coef_)\n",
    "print(\"lambda:\", model.named_steps['ridgeCV'].alpha_)\n",
    "res = cross_val_score(model, X_diabetes, y_diabetes, cv=kf, scoring=mse)\n",
    "cv_mse = res.mean()\n",
    "res = cross_val_score(model, X_diabetes, y_diabetes, cv=kf)\n",
    "cv_r2 = res.mean()\n",
    "print('c-v R^2:', cv_r2, 'c-v MSE:', cv_mse)"
   ]
  }
 ],
 "metadata": {
  "kernelspec": {
   "display_name": "Python 3",
   "language": "python",
   "name": "python3"
  },
  "language_info": {
   "codemirror_mode": {
    "name": "ipython",
    "version": 3
   },
   "file_extension": ".py",
   "mimetype": "text/x-python",
   "name": "python",
   "nbconvert_exporter": "python",
   "pygments_lexer": "ipython3",
   "version": "3.12.1"
  }
 },
 "nbformat": 4,
 "nbformat_minor": 4
}
